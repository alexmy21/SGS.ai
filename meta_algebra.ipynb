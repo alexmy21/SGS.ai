{
 "cells": [
  {
   "cell_type": "code",
   "execution_count": 1,
   "metadata": {},
   "outputs": [
    {
     "name": "stdout",
     "output_type": "stream",
     "text": [
      "HLLSETS_PATH:  /home/alexmy/SGS/SGS.ai/sgs_core/HllSets/src/HllSets.jl\n"
     ]
    }
   ],
   "source": [
    "from dotenv import load_dotenv\n",
    "import os\n",
    "\n",
    "path = os.getenv(\"HLLSETS_PATH\")\n",
    "\n",
    "print(\"HLLSETS_PATH: \", path)"
   ]
  },
  {
   "cell_type": "code",
   "execution_count": 2,
   "metadata": {},
   "outputs": [
    {
     "name": "stdout",
     "output_type": "stream",
     "text": [
      "1\n"
     ]
    },
    {
     "data": {
      "text/plain": [
       "{'status': 'error',\n",
       " 'message': 'HTTPConnectionPool(host=\\'hdf5\\', port=5000): Max retries exceeded with url: /read (Caused by NameResolutionError(\"<urllib3.connection.HTTPConnection object at 0x7f50c4977bf0>: Failed to resolve \\'hdf5\\' ([Errno -2] Name or service not known)\"))',\n",
       " 'type': 'ConnectionError'}"
      ]
     },
     "execution_count": 2,
     "metadata": {},
     "output_type": "execute_result"
    }
   ],
   "source": [
    "request = '''\n",
    "transformer: \"C\"\n",
    "processor: \"meta_hdf5.call_hdf5\"\n",
    "input_sha_id: \"input_sha_id_123\"\n",
    "processor_sha_id: \"processor_sha_id_456\"\n",
    "output_sha_id: \"output_sha_id_789\"\n",
    "'''\n",
    "\n",
    "# Import the module from sgs_core\n",
    "import sys\n",
    "from pathlib import Path\n",
    "\n",
    "import hdf5\n",
    "\n",
    "# Add the sgs_core directory to the Python path\n",
    "sys.path.append(str(Path.cwd() / \"sgs_core\"))\n",
    "# sys.path.index(os.path.abspath(path))\n",
    "\n",
    "# Import the meta_algebra module\n",
    "import meta_algebra\n",
    "import u_controller \n",
    "\n",
    "# Test a method from meta_algebra\n",
    "hll = meta_algebra.HllSet()\n",
    "result = hll.count()  # Replace 'some_method' with the actual method name\n",
    "print(result)\n",
    "\n",
    "ctl = u_controller.Controller()\n",
    "\n",
    "ctl.process_request(request)\n",
    "\n"
   ]
  }
 ],
 "metadata": {
  "kernelspec": {
   "display_name": ".venv",
   "language": "python",
   "name": "python3"
  },
  "language_info": {
   "codemirror_mode": {
    "name": "ipython",
    "version": 3
   },
   "file_extension": ".py",
   "mimetype": "text/x-python",
   "name": "python",
   "nbconvert_exporter": "python",
   "pygments_lexer": "ipython3",
   "version": "3.12.8"
  }
 },
 "nbformat": 4,
 "nbformat_minor": 2
}
