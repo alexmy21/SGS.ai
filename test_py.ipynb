{
 "cells": [
  {
   "cell_type": "code",
   "execution_count": null,
   "metadata": {},
   "outputs": [],
   "source": [
    "import requests\n",
    "\n",
    "def call_hdf5():\n",
    "    try:\n",
    "        # Make a GET request to the hdf5 service\n",
    "        response = requests.get(\"http://localhost:5000/read\")  # Replace \"/endpoint\" with the actual endpoint of your Flask app\n",
    "        \n",
    "        # Check if the request was successful\n",
    "        if response.status_code == 200:\n",
    "            return {\"status\": \"success\", \"data\": response.json()}\n",
    "        else:\n",
    "            return {\"status\": \"error\", \"message\": f\"HTTP {response.status_code}: {response.text}\"}\n",
    "    except requests.exceptions.RequestException as e:\n",
    "        return {\"status\": \"error\", \"message\": str(e)}"
   ]
  },
  {
   "cell_type": "code",
   "execution_count": null,
   "metadata": {},
   "outputs": [],
   "source": [
    "print(call_hdf5())"
   ]
  },
  {
   "cell_type": "code",
   "execution_count": 1,
   "metadata": {},
   "outputs": [
    {
     "name": "stdout",
     "output_type": "stream",
     "text": [
      "Union: 5\n",
      "Intersection: 1\n",
      "Complement: 2\n",
      "Difference: 2 1 2\n"
     ]
    }
   ],
   "source": [
    "# Import the module from sgs_core\n",
    "import sys\n",
    "from pathlib import Path\n",
    "\n",
    "# Add the sgs_core directory to the Python path\n",
    "sys.path.append(str(Path.cwd() / \"sgs_core\"))\n",
    "\n",
    "# Import the meta_algebra module\n",
    "import meta_algebra as md\n",
    "import meta_redis as rs\n",
    "\n",
    "hll1 = md.HllSet(6)\n",
    "hll2 = md.HllSet(6)\n",
    "\n",
    "hll1.add(\"apple\")\n",
    "hll1.add(\"banana\")\n",
    "hll1.add(\"cherry\")\n",
    "\n",
    "hll2.add(\"banana\")\n",
    "hll2.add(\"date\")\n",
    "hll2.add(\"elderberry\")\n",
    "\n",
    "# Perform union and intersection\n",
    "result_union = hll1.union(hll2)\n",
    "result_intersection = hll1.intersection(hll2)\n",
    "\n",
    "print(\"Union:\", result_union.count())\n",
    "print(\"Intersection:\", result_intersection.count())\n",
    "\n",
    "complement = hll1.complement(hll2)\n",
    "print(\"Complement:\", complement.count())\n",
    "d, r, n = hll1.difference(hll2)\n",
    "print(\"Difference:\", d.count(), r.count(), n.count())"
   ]
  },
  {
   "cell_type": "code",
   "execution_count": 2,
   "metadata": {},
   "outputs": [
    {
     "data": {
      "text/plain": [
       "array([[False, False, False, ...,  True, False, False],\n",
       "       [False, False, False, ..., False, False, False],\n",
       "       [False, False, False, ..., False, False, False],\n",
       "       ...,\n",
       "       [False, False, False, ..., False, False, False],\n",
       "       [False, False, False, ..., False, False, False],\n",
       "       [False, False, False, ..., False, False, False]], shape=(64, 32))"
      ]
     },
     "execution_count": 2,
     "metadata": {},
     "output_type": "execute_result"
    }
   ],
   "source": [
    "hll3 = md.HllSet(6)\n",
    "hll2.to_binary_tensor()"
   ]
  },
  {
   "cell_type": "code",
   "execution_count": 4,
   "metadata": {},
   "outputs": [
    {
     "name": "stdout",
     "output_type": "stream",
     "text": [
      "Indices already exist.\n"
     ]
    }
   ],
   "source": [
    "meta_redis = rs.RedisStore(host=\"localhost\", port=6379)"
   ]
  },
  {
   "cell_type": "code",
   "execution_count": null,
   "metadata": {},
   "outputs": [],
   "source": [
    "from openai import OpenAI"
   ]
  },
  {
   "cell_type": "code",
   "execution_count": null,
   "metadata": {},
   "outputs": [],
   "source": [
    "client = OpenAI(api_key=\"sk-<...>\", base_url=\"https://api.deepseek.com\")\n",
    "\n",
    "response = client.chat.completions.create(\n",
    "    model=\"deepseek-chat\",\n",
    "    messages=[\n",
    "        {\"role\": \"system\", \"content\": \"You are a helpful assistant\"},\n",
    "        {\"role\": \"user\", \"content\": \"Привет, как дела?\"},\n",
    "    ],\n",
    "    stream=False\n",
    ")\n",
    "\n",
    "print(response.choices[0].message.content)"
   ]
  }
 ],
 "metadata": {
  "kernelspec": {
   "display_name": ".venv",
   "language": "python",
   "name": "python3"
  },
  "language_info": {
   "codemirror_mode": {
    "name": "ipython",
    "version": 3
   },
   "file_extension": ".py",
   "mimetype": "text/x-python",
   "name": "python",
   "nbconvert_exporter": "python",
   "pygments_lexer": "ipython3",
   "version": "3.12.8"
  }
 },
 "nbformat": 4,
 "nbformat_minor": 2
}
