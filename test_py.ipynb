{
 "cells": [
  {
   "cell_type": "code",
   "execution_count": 1,
   "metadata": {},
   "outputs": [],
   "source": [
    "import requests\n",
    "\n",
    "def call_hdf5():\n",
    "    try:\n",
    "        # Make a GET request to the hdf5 service\n",
    "        response = requests.get(\"http://localhost:5000/read\")  # Replace \"/endpoint\" with the actual endpoint of your Flask app\n",
    "        \n",
    "        # Check if the request was successful\n",
    "        if response.status_code == 200:\n",
    "            return {\"status\": \"success\", \"data\": response.json()}\n",
    "        else:\n",
    "            return {\"status\": \"error\", \"message\": f\"HTTP {response.status_code}: {response.text}\"}\n",
    "    except requests.exceptions.RequestException as e:\n",
    "        return {\"status\": \"error\", \"message\": str(e)}"
   ]
  },
  {
   "cell_type": "code",
   "execution_count": 2,
   "metadata": {},
   "outputs": [
    {
     "name": "stdout",
     "output_type": "stream",
     "text": [
      "{'status': 'success', 'data': [1, 2, 3, 4, 5]}\n"
     ]
    }
   ],
   "source": [
    "print(call_hdf5())"
   ]
  },
  {
   "cell_type": "code",
   "execution_count": 3,
   "metadata": {},
   "outputs": [
    {
     "name": "stderr",
     "output_type": "stream",
     "text": [
      "[ Info: Julia version info\n"
     ]
    },
    {
     "name": "stdout",
     "output_type": "stream",
     "text": [
      "Julia Version 1.9.3\n",
      "Commit bed2cd540a1 (2023-08-24 14:43 UTC)\n",
      "Build Info:\n",
      "  Official https://julialang.org/ release\n",
      "Platform Info:\n",
      "  OS: Linux (x86_64-linux-gnu)\n",
      "  uname: Linux 6.12.13-100.fc40.x86_64 #1 SMP PREEMPT_DYNAMIC Sat Feb  8 17:10:01 UTC 2025 x86_64 unknown\n",
      "  CPU: Intel(R) Core(TM) i7-7700HQ CPU @ 2.80GHz: \n",
      "              speed         user         nice          sys         idle          irq\n",
      "       #1  3491 MHz      11280 s          4 s       3590 s     149491 s        449 s\n",
      "       #2  3566 MHz      14336 s          2 s       3750 s     146741 s        431 s\n",
      "       #3  3572 MHz      13238 s          1 s       3725 s     148001 s        415 s\n",
      "       #4  3561 MHz      12304 s          4 s       3822 s     148860 s        402 s\n",
      "       #5  3428 MHz      12633 s          2 s       3846 s     148574 s        404 s\n",
      "       #6  3583 MHz       9750 s          2 s       3113 s     151733 s        578 s\n",
      "       #7  3469 MHz      11423 s          4 s       4107 s     149152 s        676 s\n",
      "       #8  3553 MHz      12818 s          3 s       3868 s     148308 s        407 s\n",
      "  Memory: 62.51938247680664 GB (55819.33984375 MB free)\n",
      "  Uptime: 16652.96 sec\n",
      "  Load Avg:  1.25  1.1  0.76\n",
      "  WORD_SIZE: 64\n",
      "  LIBM: libopenlibm\n",
      "  LLVM: libLLVM-14.0.6 (ORCJIT, skylake)\n",
      "  Threads: 1 on 8 virtual cores\n",
      "Environment:\n",
      "  LD_LIBRARY_PATH = /usr/local/cuda-12.8/lib64:/usr/local/cuda-12.7/lib64:/usr/local/cuda-12.8/lib64:/usr/local/cuda-12.7/lib64:/usr/local/cuda-12.8/lib64:/usr/local/cuda-12.7/lib64\n",
      "  DEBUGINFOD_IMA_CERT_PATH = /etc/keys/ima:\n",
      "  HOME = /home/alexmy\n",
      "  MATHEMATICA_HOME = /home/alexmy/Downloads/Software/.52703/Mathematica\n",
      "  MOZ_GMP_PATH = /usr/lib64/mozilla/plugins/gmp-gmpopenh264/system-installed\n",
      "  PATH = /home/alexmy/SGS/SGS.ai/.venv/bin:/usr/local/cuda-12.8/bin:/usr/local/cuda-12.7/bin:/home/alexmy/.yao/bin:/usr/local/cuda-12.8/bin:/usr/local/cuda-12.7/bin:/home/alexmy/.yao/bin:/usr/local/cuda-12.8/bin:/usr/local/cuda-12.7/bin:/home/alexmy/.yao/bin:/home/alexmy/.cargo/bin:/home/alexmy/.local/bin:/home/alexmy/bin:/usr/local/bin:/usr/local/sbin:/usr/bin:/usr/sbin:/var/lib/snapd/snap/bin\n",
      "  VSCODE_CODE_CACHE_PATH = /home/alexmy/.config/Code/CachedData/e54c774e0add60467559eb0d1e229c6452cf8447\n",
      "  TERM = xterm-color\n"
     ]
    },
    {
     "name": "stderr",
     "output_type": "stream",
     "text": [
      "[ Info: Julia executable: /opt/julia-1.9.3/bin/julia\n",
      "[ Info: Trying to import PyCall...\n",
      "┌ Info: PyCall is already installed and compatible with Python executable.\n",
      "│ \n",
      "│ PyCall:\n",
      "│     python: /home/alexmy/SGS/SGS.ai/.venv/bin/python\n",
      "│     libpython: /usr/lib64/libpython3.12.so.1.0\n",
      "│ Python:\n",
      "│     python: /home/alexmy/SGS/SGS.ai/.venv/bin/python\n",
      "└     libpython: /usr/lib64/libpython3.12.so.1.0\n"
     ]
    }
   ],
   "source": [
    "import julia\n",
    "julia.install()"
   ]
  },
  {
   "cell_type": "code",
   "execution_count": 4,
   "metadata": {},
   "outputs": [],
   "source": [
    "# meta_algebra.py\n",
    "\n",
    "from julia import Main\n",
    "\n",
    "# Load the sets32.jl file\n",
    "Main.include(\"HllSets/src/HllSets.jl\")\n",
    "\n",
    "# using .HllSets\n",
    "\n",
    "Main.using(\".HllSets\")\n",
    "\n",
    "class HllSet:\n",
    "    def __init__(self, P=10):\n",
    "        \"\"\"\n",
    "        Initialize an HllSet with a given precision P.\n",
    "        \"\"\"\n",
    "        self.P = P\n",
    "        self.hll = Main.HllSet(P)  # Create a new HllSet in Julia\n",
    "\n",
    "    def add(self, element):\n",
    "        \"\"\"\n",
    "        Add an element to the HllSet.\n",
    "        \"\"\"\n",
    "        # Use getattr to call the Julia function with '!'\n",
    "        add_func = getattr(Main, \"add!\")\n",
    "        add_func(self.hll, element)\n",
    "\n",
    "    def count(self):\n",
    "        \"\"\"\n",
    "        Estimate the cardinality of the HllSet.\n",
    "        \"\"\"\n",
    "        return Main.count(self.hll)\n",
    "\n",
    "    def union(self, other):\n",
    "        \"\"\"\n",
    "        Perform a union with another HllSet.\n",
    "        \"\"\"\n",
    "        result = Main.union(self.hll, other.hll)\n",
    "        return HllSet.from_julia(result)\n",
    "\n",
    "    def intersection(self, other):\n",
    "        \"\"\"\n",
    "        Perform an intersection with another HllSet.\n",
    "        \"\"\"\n",
    "        result = Main.intersect(self.hll, other.hll)\n",
    "        return HllSet.from_julia(result)\n",
    "\n",
    "    def difference(self, other):\n",
    "        \"\"\"\n",
    "        Perform a difference with another HllSet.\n",
    "        \"\"\"\n",
    "        result = Main.diff(self.hll, other.hll)\n",
    "        return HllSet.from_julia(result)\n",
    "\n",
    "    def complement(self, other):\n",
    "        \"\"\"\n",
    "        Perform a complement operation with another HllSet.\n",
    "        \"\"\"\n",
    "        result = Main.set_comp(self.hll, other.hll)\n",
    "        return HllSet.from_julia(result)\n",
    "\n",
    "    @classmethod\n",
    "    def from_julia(cls, julia_hll):\n",
    "        \"\"\"\n",
    "        Create a Python HllSet from a Julia HllSet.\n",
    "        \"\"\"\n",
    "        hll = cls()\n",
    "        hll.hll = julia_hll\n",
    "        return hll\n",
    "\n",
    "    def __repr__(self):\n",
    "        return f\"HllSet(P={self.P}, count={self.count()})\"\n",
    "    \n",
    "# Create two HllSets\n",
    "hll1 = Main.HllSets.HllSet()"
   ]
  },
  {
   "cell_type": "code",
   "execution_count": 5,
   "metadata": {},
   "outputs": [
    {
     "name": "stdout",
     "output_type": "stream",
     "text": [
      "Union: 5\n",
      "Intersection: 2\n"
     ]
    }
   ],
   "source": [
    "hll1 = HllSet(10)\n",
    "hll2 = HllSet(10)\n",
    "\n",
    "hll1.add(\"apple\")\n",
    "hll1.add(\"banana\")\n",
    "hll1.add(\"cherry\")\n",
    "\n",
    "hll2.add(\"banana\")\n",
    "hll2.add(\"date\")\n",
    "hll2.add(\"elderberry\")\n",
    "\n",
    "# Perform union and intersection\n",
    "result_union = hll1.union(hll2)\n",
    "result_intersection = hll1.intersection(hll2)\n",
    "\n",
    "print(\"Union:\", result_union.count())\n",
    "print(\"Intersection:\", result_intersection.count())"
   ]
  }
 ],
 "metadata": {
  "kernelspec": {
   "display_name": ".venv",
   "language": "python",
   "name": "python3"
  },
  "language_info": {
   "codemirror_mode": {
    "name": "ipython",
    "version": 3
   },
   "file_extension": ".py",
   "mimetype": "text/x-python",
   "name": "python",
   "nbconvert_exporter": "python",
   "pygments_lexer": "ipython3",
   "version": "3.12.8"
  }
 },
 "nbformat": 4,
 "nbformat_minor": 2
}
