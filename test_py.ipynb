{
 "cells": [
  {
   "cell_type": "code",
   "execution_count": null,
   "metadata": {},
   "outputs": [],
   "source": [
    "import requests\n",
    "\n",
    "def call_hdf5():\n",
    "    try:\n",
    "        # Make a GET request to the hdf5 service\n",
    "        response = requests.get(\"http://localhost:5000/read\")  # Replace \"/endpoint\" with the actual endpoint of your Flask app\n",
    "        \n",
    "        # Check if the request was successful\n",
    "        if response.status_code == 200:\n",
    "            return {\"status\": \"success\", \"data\": response.json()}\n",
    "        else:\n",
    "            return {\"status\": \"error\", \"message\": f\"HTTP {response.status_code}: {response.text}\"}\n",
    "    except requests.exceptions.RequestException as e:\n",
    "        return {\"status\": \"error\", \"message\": str(e)}"
   ]
  },
  {
   "cell_type": "code",
   "execution_count": null,
   "metadata": {},
   "outputs": [],
   "source": [
    "print(call_hdf5())"
   ]
  },
  {
   "cell_type": "code",
   "execution_count": 2,
   "metadata": {},
   "outputs": [
    {
     "name": "stdout",
     "output_type": "stream",
     "text": [
      "Union: 5\n",
      "Intersection: 1\n",
      "Complement: 2\n",
      "Difference: 2 1 2\n"
     ]
    }
   ],
   "source": [
    "# Import the module from sgs_core\n",
    "import sys\n",
    "from pathlib import Path\n",
    "\n",
    "# Add the sgs_core directory to the Python path\n",
    "sys.path.append(str(Path.cwd() / \"sgs_core\"))\n",
    "\n",
    "# Import the meta_algebra module\n",
    "import meta_algebra as md\n",
    "\n",
    "hll1 = md.HllSet(6)\n",
    "hll2 = md.HllSet(6)\n",
    "\n",
    "hll1.add(\"apple\")\n",
    "hll1.add(\"banana\")\n",
    "hll1.add(\"cherry\")\n",
    "\n",
    "hll2.add(\"banana\")\n",
    "hll2.add(\"date\")\n",
    "hll2.add(\"elderberry\")\n",
    "\n",
    "# Perform union and intersection\n",
    "result_union = hll1.union(hll2)\n",
    "result_intersection = hll1.intersection(hll2)\n",
    "\n",
    "print(\"Union:\", result_union.count())\n",
    "print(\"Intersection:\", result_intersection.count())\n",
    "\n",
    "complement = hll1.complement(hll2)\n",
    "print(\"Complement:\", complement.count())\n",
    "d, r, n = hll1.difference(hll2)\n",
    "print(\"Difference:\", d.count(), r.count(), n.count())"
   ]
  },
  {
   "cell_type": "code",
   "execution_count": null,
   "metadata": {},
   "outputs": [],
   "source": [
    "hll3 = md.HllSet(6)\n",
    "hll2.to_binary_tensor()"
   ]
  },
  {
   "cell_type": "code",
   "execution_count": null,
   "metadata": {},
   "outputs": [],
   "source": [
    "import redis\n",
    "from redis.commands.search.field import TextField, NumericField, TagField\n",
    "from redis.commands.search.indexDefinition import IndexDefinition, IndexType\n",
    "# from redis.commands.search.client import Client\n",
    "\n",
    "class MetaRedis:\n",
    "    def __init__(self, host='redis', port=6379, db=0):\n",
    "        \"\"\"\n",
    "        Initialize a connection to Redis.\n",
    "        \n",
    "        Args:\n",
    "            host: Redis host (default 'redis')\n",
    "            port: Redis port (default 6379)\n",
    "            db: Redis database number (default 0)\n",
    "        \"\"\"\n",
    "        self.redis = redis.Redis(\n",
    "            host=host,\n",
    "            port=port,\n",
    "            db=db,\n",
    "            socket_connect_timeout=5,  # 5 second timeout\n",
    "            decode_responses=False  # Keep binary data intact\n",
    "        )\n",
    "\n",
    "        try:\n",
    "            self._create_indices()\n",
    "            print(\"Redisearch indices created successfully.\")\n",
    "        except redis.exceptions.ResponseError as e:\n",
    "            if \"Index already exists\" in str(e):\n",
    "                print(\"Indices already exist.\")\n",
    "            else:\n",
    "                print(f\"Error creating indices: {e}\")\n",
    "        except redis.exceptions.ConnectionError:\n",
    "            print(\"Could not connect to Redis\")\n",
    "        except redis.exceptions.TimeoutError:\n",
    "            print(\"Redis connection timed out\")        \n",
    "        except redis.exceptions.RedisError as e:\n",
    "            print(f\"Redis error: {e}\")\n",
    "        \n",
    "    def _create_indices(self):\n",
    "        \"\"\"Initialize Redisearch indices.\"\"\"\n",
    "        # Edges Index (left_hll → right_hll)\n",
    "        self.redis.ft(\"edges\").create_index([\n",
    "            TextField(\"e_sha1\"),\n",
    "            TextField(\"label\"),\n",
    "            TextField(\"left\"),\n",
    "            TextField(\"right\"),\n",
    "            TextField(\"attr\")\n",
    "        ], definition=IndexDefinition(prefix=[\"meta:edges:\"]))\n",
    "\n",
    "        # Tokens Index (token → data_ids)\n",
    "        self.redis.ft(\"tokens\").create_index([\n",
    "            TextField(\"hash\"),\n",
    "            NumericField(\"bin\"),\n",
    "            NumericField(\"zeros\"),\n",
    "            NumericField(\"TF\"),\n",
    "            TagField(\"refs\")\n",
    "        ], definition=IndexDefinition(prefix=[\"meta:tokens:\"]))\n",
    "\n",
    "        # Commits Index (commit → timestamp)\n",
    "        self.redis.ft(\"commits\").create_index([\n",
    "            TextField(\"c_sha1\"),\n",
    "            NumericField(\"timestamp\")\n",
    "        ], definition=IndexDefinition(prefix=[\"meta:commits:\"]))    \n",
    "\n",
    "    \n",
    "    def execute_graph_query(self, query):\n",
    "        \"\"\"Execute a Redis Graph query.\"\"\"\n",
    "        return self.redis.execute_command(\"GRAPH.QUERY\", \"graph\", query)\n",
    "\n",
    "    def roaring_bitmap_command(self, command, *args):\n",
    "        \"\"\"Execute a Redis Roaring Bitmap command.\"\"\"\n",
    "        return self.redis.execute_command(command, *args)\n",
    "\n",
    "    def search(self, index_name, query):\n",
    "        \"\"\"Search a Redisearch index.\"\"\"\n",
    "        return self.redisearch_client.search(query)\n",
    "\n",
    "# Example usage\n",
    "if __name__ == \"__main__\":\n",
    "    meta_redis = MetaRedis(host=\"localhost\", port=6379)\n",
    "    print(\"Redis connection initialized and indices ensured.\")"
   ]
  },
  {
   "cell_type": "code",
   "execution_count": null,
   "metadata": {},
   "outputs": [],
   "source": [
    "meta_redis = MetaRedis(host=\"localhost\", port=6379)"
   ]
  },
  {
   "cell_type": "code",
   "execution_count": null,
   "metadata": {},
   "outputs": [],
   "source": [
    "from openai import OpenAI"
   ]
  },
  {
   "cell_type": "code",
   "execution_count": null,
   "metadata": {},
   "outputs": [],
   "source": [
    "client = OpenAI(api_key=\"sk-4238636dfa9f48269e13602659a9eea4\", base_url=\"https://api.deepseek.com\")\n",
    "\n",
    "response = client.chat.completions.create(\n",
    "    model=\"deepseek-chat\",\n",
    "    messages=[\n",
    "        {\"role\": \"system\", \"content\": \"You are a helpful assistant\"},\n",
    "        {\"role\": \"user\", \"content\": \"Привет, как дела?\"},\n",
    "    ],\n",
    "    stream=False\n",
    ")\n",
    "\n",
    "print(response.choices[0].message.content)"
   ]
  }
 ],
 "metadata": {
  "kernelspec": {
   "display_name": ".venv",
   "language": "python",
   "name": "python3"
  },
  "language_info": {
   "codemirror_mode": {
    "name": "ipython",
    "version": 3
   },
   "file_extension": ".py",
   "mimetype": "text/x-python",
   "name": "python",
   "nbconvert_exporter": "python",
   "pygments_lexer": "ipython3",
   "version": "3.12.8"
  }
 },
 "nbformat": 4,
 "nbformat_minor": 2
}
