{
 "cells": [
  {
   "cell_type": "code",
   "execution_count": 1,
   "metadata": {},
   "outputs": [],
   "source": [
    "import requests\n",
    "\n",
    "def call_hdf5():\n",
    "    try:\n",
    "        # Make a GET request to the hdf5 service\n",
    "        response = requests.get(\"http://localhost:5000/read\")  # Replace \"/endpoint\" with the actual endpoint of your Flask app\n",
    "        \n",
    "        # Check if the request was successful\n",
    "        if response.status_code == 200:\n",
    "            return {\"status\": \"success\", \"data\": response.json()}\n",
    "        else:\n",
    "            return {\"status\": \"error\", \"message\": f\"HTTP {response.status_code}: {response.text}\"}\n",
    "    except requests.exceptions.RequestException as e:\n",
    "        return {\"status\": \"error\", \"message\": str(e)}"
   ]
  },
  {
   "cell_type": "code",
   "execution_count": 3,
   "metadata": {},
   "outputs": [
    {
     "name": "stdout",
     "output_type": "stream",
     "text": [
      "{'status': 'success', 'data': [1, 2, 3, 4, 5]}\n"
     ]
    }
   ],
   "source": [
    "print(call_hdf5())"
   ]
  },
  {
   "cell_type": "code",
   "execution_count": null,
   "metadata": {},
   "outputs": [],
   "source": [
    "import julia\n",
    "julia.install()"
   ]
  },
  {
   "cell_type": "code",
   "execution_count": 6,
   "metadata": {},
   "outputs": [],
   "source": [
    "# meta_algebra.py\n",
    "\n",
    "from julia import Main\n",
    "\n",
    "# Load the sets32.jl file\n",
    "Main.include(\"sgs_core/HllSets/src/HllSets.jl\")\n",
    "\n",
    "# using .HllSets\n",
    "\n",
    "Main.using(\".HllSets\")\n",
    "\n",
    "class HllSet:\n",
    "    def __init__(self, P=10):\n",
    "        \"\"\"\n",
    "        Initialize an HllSet with a given precision P.\n",
    "        \"\"\"\n",
    "        self.P = P\n",
    "        self.hll = Main.HllSet(P)  # Create a new HllSet in Julia\n",
    "\n",
    "    def add(self, element):\n",
    "        \"\"\"\n",
    "        Add an element to the HllSet.\n",
    "        \"\"\"\n",
    "        # Use getattr to call the Julia function with '!'\n",
    "        add_func = getattr(Main, \"add!\")\n",
    "        add_func(self.hll, element)\n",
    "\n",
    "    def count(self):\n",
    "        \"\"\"\n",
    "        Estimate the cardinality of the HllSet.\n",
    "        \"\"\"\n",
    "        return Main.count(self.hll)\n",
    "\n",
    "    def union(self, other):\n",
    "        \"\"\"\n",
    "        Perform a union with another HllSet.\n",
    "        \"\"\"\n",
    "        result = Main.union(self.hll, other.hll)\n",
    "        return HllSet.from_julia(result)\n",
    "\n",
    "    def intersection(self, other):\n",
    "        \"\"\"\n",
    "        Perform an intersection with another HllSet.\n",
    "        \"\"\"\n",
    "        result = Main.intersect(self.hll, other.hll)\n",
    "        return HllSet.from_julia(result)\n",
    "\n",
    "    def difference(self, other):\n",
    "        \"\"\"\n",
    "        Perform a difference with another HllSet.\n",
    "        \"\"\"\n",
    "        result = Main.diff(self.hll, other.hll)\n",
    "        return HllSet.from_julia(result)\n",
    "\n",
    "    def complement(self, other):\n",
    "        \"\"\"\n",
    "        Perform a complement operation with another HllSet.\n",
    "        \"\"\"\n",
    "        result = Main.set_comp(self.hll, other.hll)\n",
    "        return HllSet.from_julia(result)\n",
    "\n",
    "    @classmethod\n",
    "    def from_julia(cls, julia_hll):\n",
    "        \"\"\"\n",
    "        Create a Python HllSet from a Julia HllSet.\n",
    "        \"\"\"\n",
    "        hll = cls()\n",
    "        hll.hll = julia_hll\n",
    "        return hll\n",
    "\n",
    "    def __repr__(self):\n",
    "        return f\"HllSet(P={self.P}, count={self.count()})\"\n",
    "    \n",
    "# Create two HllSets\n",
    "hll1 = Main.HllSets.HllSet()"
   ]
  },
  {
   "cell_type": "code",
   "execution_count": null,
   "metadata": {},
   "outputs": [
    {
     "name": "stdout",
     "output_type": "stream",
     "text": [
      "Union: 5\n",
      "Intersection: 2\n"
     ]
    }
   ],
   "source": [
    "# Import the module from sgs_core\n",
    "import sys\n",
    "from pathlib import Path\n",
    "\n",
    "# Add the sgs_core directory to the Python path\n",
    "sys.path.append(str(Path.cwd() / \"sgs_core\"))\n",
    "\n",
    "# Import the meta_algebra module\n",
    "import meta_algebra as md\n",
    "\n",
    "hll1 = md.HllSet(10)\n",
    "hll2 = md.HllSet(10)\n",
    "\n",
    "hll1.add(\"apple\")\n",
    "hll1.add(\"banana\")\n",
    "hll1.add(\"cherry\")\n",
    "\n",
    "hll2.add(\"banana\")\n",
    "hll2.add(\"date\")\n",
    "hll2.add(\"elderberry\")\n",
    "\n",
    "# Perform union and intersection\n",
    "result_union = hll1.union(hll2)\n",
    "result_intersection = hll1.intersection(hll2)\n",
    "\n",
    "print(\"Union:\", result_union.count())\n",
    "print(\"Intersection:\", result_intersection.count())"
   ]
  },
  {
   "cell_type": "code",
   "execution_count": 1,
   "metadata": {},
   "outputs": [],
   "source": [
    "from openai import OpenAI"
   ]
  },
  {
   "cell_type": "code",
   "execution_count": null,
   "metadata": {},
   "outputs": [
    {
     "name": "stdout",
     "output_type": "stream",
     "text": [
      "Привет! Всё отлично, спасибо! 😊 Как твои дела? Чем могу помочь?\n"
     ]
    }
   ],
   "source": [
    "client = OpenAI(api_key=\"<deep_seek_id>\", base_url=\"https://api.deepseek.com\")\n",
    "\n",
    "response = client.chat.completions.create(\n",
    "    model=\"deepseek-chat\",\n",
    "    messages=[\n",
    "        {\"role\": \"system\", \"content\": \"You are a helpful assistant\"},\n",
    "        {\"role\": \"user\", \"content\": \"Привет, как дела?\"},\n",
    "    ],\n",
    "    stream=False\n",
    ")\n",
    "\n",
    "print(response.choices[0].message.content)"
   ]
  }
 ],
 "metadata": {
  "kernelspec": {
   "display_name": ".venv",
   "language": "python",
   "name": "python3"
  },
  "language_info": {
   "codemirror_mode": {
    "name": "ipython",
    "version": 3
   },
   "file_extension": ".py",
   "mimetype": "text/x-python",
   "name": "python",
   "nbconvert_exporter": "python",
   "pygments_lexer": "ipython3",
   "version": "3.12.8"
  }
 },
 "nbformat": 4,
 "nbformat_minor": 2
}
